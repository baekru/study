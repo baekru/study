{
 "cells": [
  {
   "cell_type": "code",
   "execution_count": 6,
   "id": "926b66c4-711b-4925-81da-a239d2053071",
   "metadata": {},
   "outputs": [
    {
     "name": "stdout",
     "output_type": "stream",
     "text": [
      "   이름  수학  영어   음악   체육\n",
      "1  서준  90  98   85  100\n",
      "2  우현  80  89   95   90\n",
      "3  인아  70  95  100   90\n"
     ]
    }
   ],
   "source": [
    "import pandas as pd\n",
    "\n",
    "exam_data = {\n",
    "    '이름': ['서준', '우현', '인아'],\n",
    "    '수학': [90, 80, 70],\n",
    "    '영어': [98, 89, 95],\n",
    "    '음악': [85, 95, 100],\n",
    "    '체육': [100, 90, 90]\n",
    "}\n",
    "\n",
    "df = pd.DataFrame(exam_data)\n",
    "\n",
    "# 인덱스를 숫자로 다시 설정\n",
    "df.index = pd.Index([1, 2, 3])\n",
    "print(df)\n"
   ]
  },
  {
   "cell_type": "code",
   "execution_count": 12,
   "id": "f2e838cd-d982-48e1-bf97-f1b9dad87d79",
   "metadata": {},
   "outputs": [
    {
     "name": "stdout",
     "output_type": "stream",
     "text": [
      "    c0  c1  c2  c3  c4\n",
      "r0   1   4   7  10  13\n",
      "r1   2   5   8  11  14\n",
      "r2   3   6   9  12  15\n"
     ]
    }
   ],
   "source": [
    "#행 인덱스 재배열 reindex()\n",
    "#예제 1-17\n",
    "\n",
    "import pandas as pd\n",
    "\n",
    "# ✅ 딕셔너리는 중괄호 {}로\n",
    "dict_data = {'c0': [1, 2, 3],'c1': [4, 5, 6],'c2': [7, 8, 9],'c3': [10, 11, 12],'c4': [13, 14, 15]}\n",
    "\n",
    "# ✅ DataFrame 생성\n",
    "df = pd.DataFrame(dict_data, index=['r0', 'r1', 'r2'])\n",
    "print(df)\n"
   ]
  },
  {
   "cell_type": "code",
   "execution_count": 14,
   "id": "5614b001-ff55-4a06-8ea9-dc3e999e08e2",
   "metadata": {},
   "outputs": [
    {
     "name": "stdout",
     "output_type": "stream",
     "text": [
      "   이름  국어  영어   수학\n",
      "0  철수  90  85   80\n",
      "1  영희  70  95  100\n",
      "2  민수  85  80   90\n"
     ]
    }
   ],
   "source": [
    "#문제 1\n",
    "import pandas as pd\n",
    "\n",
    "exam_data = {\n",
    "    '이름': ['철수', '영희', '민수'],\n",
    "    '국어': [90, 70, 85],\n",
    "    '영어': [85, 95, 80],\n",
    "    '수학': [80, 100, 90],\n",
    "}\n",
    "\n",
    "df = pd.DataFrame(exam_data)\n",
    "\n",
    "print(df)\n"
   ]
  },
  {
   "cell_type": "code",
   "execution_count": 15,
   "id": "05fa44c1-83ff-430d-8071-a7a4cae54469",
   "metadata": {},
   "outputs": [
    {
     "name": "stdout",
     "output_type": "stream",
     "text": [
      "   주문번호  상품명  수량      단가\n",
      "0  1001  키보드   2   30000\n",
      "1  1002  모니터   1  150000\n",
      "2  1003  마우스   3   20000\n"
     ]
    }
   ],
   "source": [
    "#문제 2\n",
    "# 상품 주문 데이터 구성\n",
    "\n",
    "order_data = {\n",
    "    '주문번호': [1001, 1002, 1003],\n",
    "    '상품명': ['키보드', '모니터', '마우스'],\n",
    "    '수량': [2, 1, 3],\n",
    "    '단가': [30000, 150000, 20000]\n",
    "}\n",
    "\n",
    "df = pd.DataFrame(order_data)\n",
    "\n",
    "print(df)"
   ]
  },
  {
   "cell_type": "code",
   "execution_count": 18,
   "id": "f048c789-4a3e-4271-b480-b6817e076930",
   "metadata": {},
   "outputs": [
    {
     "name": "stdout",
     "output_type": "stream",
     "text": [
      "  Name  Age Class\n",
      "0   철수   16     A\n",
      "1   영희   17     B\n",
      "2   민수   16     A\n"
     ]
    }
   ],
   "source": [
    "#문제 3\n",
    "#아래 데이터를 가지고 DataFrame을 만들고,\n",
    "#행 인덱스를 '학생명' 으로, 열 이름을 한글로 변경 하세요.\n",
    "#열 이름을 [\"나이\", \"반\"] 으로 변경하세요.\n",
    "\n",
    "exam_data = {\n",
    "    \"Name\": [\"철수\", \"영희\", \"민수\"],\n",
    "    \"Age\": [16, 17, 16],\n",
    "    \"Class\": [\"A\", \"B\", \"A\"]\n",
    "}\n",
    "\n",
    "df = pd.DataFrame(exam_data)\n",
    "\n",
    "print(df)\n"
   ]
  },
  {
   "cell_type": "code",
   "execution_count": 25,
   "id": "71efebee-7d3f-44c3-a484-05611588ac3c",
   "metadata": {},
   "outputs": [
    {
     "name": "stdout",
     "output_type": "stream",
     "text": [
      "      고객명  상품명  수량\n",
      "주문번호              \n",
      "1001  김철수  키보드   2\n",
      "1003  박민수  마우스   3\n"
     ]
    }
   ],
   "source": [
    "#고객 주문 데이터에서 행과 열 삭제하기\n",
    "#아래 데이터를 pandas DataFrame으로 만들고,\n",
    "#특정 행과 열을 삭제해보세요.\n",
    "\n",
    "import pandas as pd\n",
    "\n",
    "data = {\n",
    "    '주문번호': [1001, 1002, 1003],\n",
    "    '고객명': ['김철수', '이영희', '박민수'],\n",
    "    '상품명': ['키보드', '모니터', '마우스'],\n",
    "    '수량': [2, 1, 3],\n",
    "    '가격': [30000, 150000, 20000]\n",
    "}\n",
    "\n",
    "# DataFrame 생성\n",
    "df = pd.DataFrame(data)\n",
    "df.set_index('주문번호', inplace=True)\n",
    "df = df.drop(index=1002)\n",
    "df = df.drop(columns='가격')\n",
    "\n",
    "print(df)\n"
   ]
  },
  {
   "cell_type": "code",
   "execution_count": 26,
   "id": "6c7be791-36f0-4289-824d-47ef34a48b2b",
   "metadata": {},
   "outputs": [
    {
     "data": {
      "text/html": [
       "<div>\n",
       "<style scoped>\n",
       "    .dataframe tbody tr th:only-of-type {\n",
       "        vertical-align: middle;\n",
       "    }\n",
       "\n",
       "    .dataframe tbody tr th {\n",
       "        vertical-align: top;\n",
       "    }\n",
       "\n",
       "    .dataframe thead th {\n",
       "        text-align: right;\n",
       "    }\n",
       "</style>\n",
       "<table border=\"1\" class=\"dataframe\">\n",
       "  <thead>\n",
       "    <tr style=\"text-align: right;\">\n",
       "      <th></th>\n",
       "      <th>이름</th>\n",
       "      <th>국어</th>\n",
       "      <th>영어</th>\n",
       "      <th>수학</th>\n",
       "    </tr>\n",
       "  </thead>\n",
       "  <tbody>\n",
       "    <tr>\n",
       "      <th>0</th>\n",
       "      <td>철수</td>\n",
       "      <td>90</td>\n",
       "      <td>85</td>\n",
       "      <td>80</td>\n",
       "    </tr>\n",
       "    <tr>\n",
       "      <th>1</th>\n",
       "      <td>영희</td>\n",
       "      <td>70</td>\n",
       "      <td>95</td>\n",
       "      <td>100</td>\n",
       "    </tr>\n",
       "    <tr>\n",
       "      <th>2</th>\n",
       "      <td>민수</td>\n",
       "      <td>85</td>\n",
       "      <td>80</td>\n",
       "      <td>90</td>\n",
       "    </tr>\n",
       "  </tbody>\n",
       "</table>\n",
       "</div>"
      ],
      "text/plain": [
       "   이름  국어  영어   수학\n",
       "0  철수  90  85   80\n",
       "1  영희  70  95  100\n",
       "2  민수  85  80   90"
      ]
     },
     "execution_count": 26,
     "metadata": {},
     "output_type": "execute_result"
    }
   ],
   "source": [
    "#문제1\n",
    "student_data = { '이름':['철수','영희','민수'], '국어':[90,70,85], '영어':[85,95,80], '수학':[80,100,90] }\n",
    "df = pd.DataFrame( student_data )\n",
    "df"
   ]
  },
  {
   "cell_type": "code",
   "execution_count": 27,
   "id": "47719183-80fb-4e1c-8974-2a8aef913897",
   "metadata": {},
   "outputs": [
    {
     "data": {
      "text/html": [
       "<div>\n",
       "<style scoped>\n",
       "    .dataframe tbody tr th:only-of-type {\n",
       "        vertical-align: middle;\n",
       "    }\n",
       "\n",
       "    .dataframe tbody tr th {\n",
       "        vertical-align: top;\n",
       "    }\n",
       "\n",
       "    .dataframe thead th {\n",
       "        text-align: right;\n",
       "    }\n",
       "</style>\n",
       "<table border=\"1\" class=\"dataframe\">\n",
       "  <thead>\n",
       "    <tr style=\"text-align: right;\">\n",
       "      <th></th>\n",
       "      <th>주문번호</th>\n",
       "      <th>상품명</th>\n",
       "      <th>수량</th>\n",
       "      <th>단가</th>\n",
       "    </tr>\n",
       "  </thead>\n",
       "  <tbody>\n",
       "    <tr>\n",
       "      <th>0</th>\n",
       "      <td>1001</td>\n",
       "      <td>키보드</td>\n",
       "      <td>2</td>\n",
       "      <td>30000</td>\n",
       "    </tr>\n",
       "    <tr>\n",
       "      <th>1</th>\n",
       "      <td>1002</td>\n",
       "      <td>모니터</td>\n",
       "      <td>1</td>\n",
       "      <td>150000</td>\n",
       "    </tr>\n",
       "    <tr>\n",
       "      <th>2</th>\n",
       "      <td>1003</td>\n",
       "      <td>마우스</td>\n",
       "      <td>3</td>\n",
       "      <td>20000</td>\n",
       "    </tr>\n",
       "  </tbody>\n",
       "</table>\n",
       "</div>"
      ],
      "text/plain": [
       "   주문번호  상품명  수량      단가\n",
       "0  1001  키보드   2   30000\n",
       "1  1002  모니터   1  150000\n",
       "2  1003  마우스   3   20000"
      ]
     },
     "execution_count": 27,
     "metadata": {},
     "output_type": "execute_result"
    }
   ],
   "source": [
    "#문제2\n",
    "product_order_data = { '주문번호':[1001, 1002, 1003], '상품명':['키보드', '모니터','마우스'], '수량':[2,1,3], '단가':[30000,150000,20000] }\n",
    "df = pd.DataFrame( product_order_data )\n",
    "df"
   ]
  },
  {
   "cell_type": "code",
   "execution_count": 32,
   "id": "d2bde954-2d5c-438c-ac05-f55194313a57",
   "metadata": {},
   "outputs": [
    {
     "data": {
      "text/html": [
       "<div>\n",
       "<style scoped>\n",
       "    .dataframe tbody tr th:only-of-type {\n",
       "        vertical-align: middle;\n",
       "    }\n",
       "\n",
       "    .dataframe tbody tr th {\n",
       "        vertical-align: top;\n",
       "    }\n",
       "\n",
       "    .dataframe thead th {\n",
       "        text-align: right;\n",
       "    }\n",
       "</style>\n",
       "<table border=\"1\" class=\"dataframe\">\n",
       "  <thead>\n",
       "    <tr style=\"text-align: right;\">\n",
       "      <th></th>\n",
       "      <th>나이</th>\n",
       "      <th>반</th>\n",
       "    </tr>\n",
       "    <tr>\n",
       "      <th>학생명</th>\n",
       "      <th></th>\n",
       "      <th></th>\n",
       "    </tr>\n",
       "  </thead>\n",
       "  <tbody>\n",
       "    <tr>\n",
       "      <th>철수</th>\n",
       "      <td>16</td>\n",
       "      <td>A</td>\n",
       "    </tr>\n",
       "    <tr>\n",
       "      <th>영희</th>\n",
       "      <td>17</td>\n",
       "      <td>B</td>\n",
       "    </tr>\n",
       "    <tr>\n",
       "      <th>민수</th>\n",
       "      <td>16</td>\n",
       "      <td>A</td>\n",
       "    </tr>\n",
       "  </tbody>\n",
       "</table>\n",
       "</div>"
      ],
      "text/plain": [
       "     나이  반\n",
       "학생명       \n",
       "철수   16  A\n",
       "영희   17  B\n",
       "민수   16  A"
      ]
     },
     "execution_count": 32,
     "metadata": {},
     "output_type": "execute_result"
    }
   ],
   "source": [
    "# 문제3) 행인덱스/열이름 설정하기 \n",
    "# 학생 출석부 데이터\n",
    "# 요구사항 \n",
    "# 아래 데이터를 가지고 DataFrame을 만들고,\n",
    "# 행 인덱스를 '학생명' 으로, 열 이름을 한글로 변경 하세요.\n",
    "# 열 이름을 [\"나이\", \"반\"] 으로 변경하세요.\n",
    "\n",
    "data3 = {\"Name\": [\"철수\", \"영희\", \"민수\"],\n",
    "        \"Age\": [16, 17, 16],\n",
    "        \"Class\": [\"A\", \"B\", \"A\"]\n",
    "       }\n",
    "\n",
    "df3 = pd.DataFrame(data3)\n",
    "# 변수 = 데이터프레임.rename(columns = { 기존 이름 : 변경후 이름 , ...})\n",
    "df3 = df3.rename(columns = {'Name':'학생명', 'Age':'나이','Class':'반'})\n",
    "# 변수 = 데이터프레임.rename(index = { 기존 이름 : 변경후 이름 , ...})\n",
    "df3_1 = df3.set_index(['학생명'])\n",
    "\n",
    "df3_1"
   ]
  },
  {
   "cell_type": "code",
   "execution_count": 29,
   "id": "e9bf8aea-d1a9-486c-82d6-03b85de3eaba",
   "metadata": {},
   "outputs": [
    {
     "data": {
      "text/html": [
       "<div>\n",
       "<style scoped>\n",
       "    .dataframe tbody tr th:only-of-type {\n",
       "        vertical-align: middle;\n",
       "    }\n",
       "\n",
       "    .dataframe tbody tr th {\n",
       "        vertical-align: top;\n",
       "    }\n",
       "\n",
       "    .dataframe thead th {\n",
       "        text-align: right;\n",
       "    }\n",
       "</style>\n",
       "<table border=\"1\" class=\"dataframe\">\n",
       "  <thead>\n",
       "    <tr style=\"text-align: right;\">\n",
       "      <th></th>\n",
       "      <th>주문번호</th>\n",
       "      <th>고객명</th>\n",
       "      <th>상품명</th>\n",
       "      <th>수량</th>\n",
       "    </tr>\n",
       "  </thead>\n",
       "  <tbody>\n",
       "    <tr>\n",
       "      <th>0</th>\n",
       "      <td>1001</td>\n",
       "      <td>김철수</td>\n",
       "      <td>키보드</td>\n",
       "      <td>2</td>\n",
       "    </tr>\n",
       "    <tr>\n",
       "      <th>1</th>\n",
       "      <td>1002</td>\n",
       "      <td>이영희</td>\n",
       "      <td>모니터</td>\n",
       "      <td>1</td>\n",
       "    </tr>\n",
       "    <tr>\n",
       "      <th>2</th>\n",
       "      <td>1003</td>\n",
       "      <td>박민수</td>\n",
       "      <td>마우스</td>\n",
       "      <td>3</td>\n",
       "    </tr>\n",
       "  </tbody>\n",
       "</table>\n",
       "</div>"
      ],
      "text/plain": [
       "   주문번호  고객명  상품명  수량\n",
       "0  1001  김철수  키보드   2\n",
       "1  1002  이영희  모니터   1\n",
       "2  1003  박민수  마우스   3"
      ]
     },
     "execution_count": 29,
     "metadata": {},
     "output_type": "execute_result"
    }
   ],
   "source": [
    "# 문제4) 행/열삭제\n",
    "# 고객 주문 데이터에서 행과 열 삭제하기\n",
    "# 아래 데이터를 pandas DataFrame으로 만들고,\n",
    "# 특정 행과 열을 삭제해보세요.\n",
    "\n",
    "custom_data = { '주문번호':[1001, 1002, 1003], \n",
    "               '고객명':['김철수', '이영희', '박민수'], \n",
    "               '상품명': [ '키보드','모니터','마우스'], \n",
    "               '수량':[2,1,3], \n",
    "               '가격': [30000,150000, 20000] }\n",
    "\n",
    "df = pd.DataFrame( custom_data )\n",
    "drop_index = df [ df[ '주문번호' ] == 1002 ].index\n",
    "drop_index\n",
    "drop_df=df.drop( drop_index, axis=0)\n",
    "drop_df\n",
    "drop_가격 = df.drop( '가격', axis=1 )\n",
    "drop_가격"
   ]
  },
  {
   "cell_type": "code",
   "execution_count": 33,
   "id": "965e42c8-2b80-4d32-90fd-57df99210da4",
   "metadata": {},
   "outputs": [
    {
     "data": {
      "text/html": [
       "<div>\n",
       "<style scoped>\n",
       "    .dataframe tbody tr th:only-of-type {\n",
       "        vertical-align: middle;\n",
       "    }\n",
       "\n",
       "    .dataframe tbody tr th {\n",
       "        vertical-align: top;\n",
       "    }\n",
       "\n",
       "    .dataframe thead th {\n",
       "        text-align: right;\n",
       "    }\n",
       "</style>\n",
       "<table border=\"1\" class=\"dataframe\">\n",
       "  <thead>\n",
       "    <tr style=\"text-align: right;\">\n",
       "      <th></th>\n",
       "      <th>주문번호</th>\n",
       "      <th>고객명</th>\n",
       "      <th>상품명</th>\n",
       "      <th>수량</th>\n",
       "    </tr>\n",
       "  </thead>\n",
       "  <tbody>\n",
       "    <tr>\n",
       "      <th>0</th>\n",
       "      <td>1001</td>\n",
       "      <td>김철수</td>\n",
       "      <td>키보드</td>\n",
       "      <td>2</td>\n",
       "    </tr>\n",
       "    <tr>\n",
       "      <th>2</th>\n",
       "      <td>1003</td>\n",
       "      <td>박민수</td>\n",
       "      <td>마우스</td>\n",
       "      <td>3</td>\n",
       "    </tr>\n",
       "  </tbody>\n",
       "</table>\n",
       "</div>"
      ],
      "text/plain": [
       "   주문번호  고객명  상품명  수량\n",
       "0  1001  김철수  키보드   2\n",
       "2  1003  박민수  마우스   3"
      ]
     },
     "execution_count": 33,
     "metadata": {},
     "output_type": "execute_result"
    }
   ],
   "source": [
    "#다른사람 출력예시\n",
    "import pandas as pd\n",
    "data = {'주문번호': ['1001', '1002', '1003'],\n",
    "        '고객명': ['김철수', '이영희', '박민수'],\n",
    "        '상품명': ['키보드', '모니터', '마우스'],\n",
    "        '수량': [2, 1, 3],\n",
    "        '가격': [3000, 150000, 20000]}\n",
    "df = pd.DataFrame(data)\n",
    "df2 = df.drop([1])\n",
    "df3 = df2.drop('가격', axis=1)\n",
    "df3"
   ]
  },
  {
   "cell_type": "code",
   "execution_count": 30,
   "id": "d96476b7-1af5-4347-89a8-e88924614b1e",
   "metadata": {},
   "outputs": [
    {
     "data": {
      "text/html": [
       "<div>\n",
       "<style scoped>\n",
       "    .dataframe tbody tr th:only-of-type {\n",
       "        vertical-align: middle;\n",
       "    }\n",
       "\n",
       "    .dataframe tbody tr th {\n",
       "        vertical-align: top;\n",
       "    }\n",
       "\n",
       "    .dataframe thead th {\n",
       "        text-align: right;\n",
       "    }\n",
       "</style>\n",
       "<table border=\"1\" class=\"dataframe\">\n",
       "  <thead>\n",
       "    <tr style=\"text-align: right;\">\n",
       "      <th></th>\n",
       "      <th>상품명</th>\n",
       "      <th>수량</th>\n",
       "    </tr>\n",
       "    <tr>\n",
       "      <th>주문번호</th>\n",
       "      <th></th>\n",
       "      <th></th>\n",
       "    </tr>\n",
       "  </thead>\n",
       "  <tbody>\n",
       "    <tr>\n",
       "      <th>1002</th>\n",
       "      <td>모니터</td>\n",
       "      <td>1</td>\n",
       "    </tr>\n",
       "    <tr>\n",
       "      <th>1003</th>\n",
       "      <td>마우스</td>\n",
       "      <td>3</td>\n",
       "    </tr>\n",
       "  </tbody>\n",
       "</table>\n",
       "</div>"
      ],
      "text/plain": [
       "      상품명  수량\n",
       "주문번호         \n",
       "1002  모니터   1\n",
       "1003  마우스   3"
      ]
     },
     "execution_count": 30,
     "metadata": {},
     "output_type": "execute_result"
    }
   ],
   "source": [
    "# 문제5) 행/열 선택\n",
    "#  쇼핑몰 주문 데이터\n",
    "# 다음 데이터를 DataFrame으로 만들고,\n",
    "# 행과 열을 선택해보세요!\n",
    "\n",
    "shop_data = {\n",
    "    \"주문번호\": [1001, 1002, 1003],\n",
    "    \"고객명\": [\"김철수\", \"이영희\", \"박민수\"],\n",
    "    \"상품명\": [\"키보드\", \"모니터\", \"마우스\"],\n",
    "    \"수량\": [2, 1, 3],\n",
    "    \"가격\": [30000, 150000, 20000]\n",
    "}\n",
    "df = pd.DataFrame( shop_data )\n",
    "df\n",
    "df=df.set_index('주문번호')\n",
    "df.loc[1002] # 주문번호 1002의 상품명만 선택해서 출력\n",
    "\n",
    "# 수량과 가격 열만 선택해서 모든 행 출력\n",
    "df[ ['수량','가격'] ]\n",
    "\n",
    "# 1~2번째 행과 '고객명', '상품명' 열만 선택해서 출력\n",
    "df.iloc[ [1,2], [1,2] ]\n"
   ]
  },
  {
   "cell_type": "code",
   "execution_count": null,
   "id": "3ac55495-1e5b-4150-a2cc-b94142228812",
   "metadata": {},
   "outputs": [],
   "source": [
    "# 문제6)  원소값 수정하기 \n",
    "# 학생 성적 데이터 수정하기\n",
    "# 다음 데이터를 DataFrame으로 만들고,\n",
    "# 특정 원소 값을 수정하세요!\n",
    "\n",
    "data = {\n",
    "    '주문번호': [1001, 1002, 1003],\n",
    "    '고객명': ['김철수', '이영희', '박민수'],\n",
    "    '상품명': ['키보드', '모니터', '마우스'],\n",
    "    '수량': [2, 1, 3],\n",
    "    '가격': [30000, 150000, 20000]\n",
    "}\n",
    "\n",
    "# DataFrame 생성\n",
    "df = pd.DataFrame(data)\n",
    "\n",
    "# 인덱스 설정\n",
    "df = df.set_index('주문번호')\n",
    "\n",
    "# 행 삭제 (1002)\n",
    "df = df.drop(index=1002)\n",
    "\n",
    "# 열 삭제 ('가격')\n",
    "df = df.drop(columns='가격')\n",
    "\n",
    "# 출력\n",
    "print(df)"
   ]
  },
  {
   "cell_type": "code",
   "execution_count": null,
   "id": "3f432dec-c6dc-4ebf-957a-c77209771dd1",
   "metadata": {},
   "outputs": [],
   "source": [
    "# 문제7\n",
    "custom_order_data = {\n",
    "    \"주문번호\": [1001, 1002, 1003],\n",
    "    \"고객명\": [\"김철수\", \"이영희\", \"박민수\"],\n",
    "    \"상품명\": [\"키보드\", \"모니터\", \"마우스\"],\n",
    "    \"수량\": [2, 1, 3],\n",
    "    \"가격\": [30000, 150000, 20000]\n",
    "}\n",
    "\n",
    "df = pd.DataFrame( custom_order_data )\n",
    "# 주문번호를 인덱스로 설정\n",
    "df = df.set_index( '주문번호' )\n",
    "df\n",
    "# 주문번호 1002에 해당하는 고객명과 상품명을 출력\n",
    "df.loc[1002, ['고객명','상품명'] ]"
   ]
  },
  {
   "cell_type": "code",
   "execution_count": null,
   "id": "9cd4b2d4-3e01-4b62-bdac-3cf285ab8aca",
   "metadata": {},
   "outputs": [],
   "source": []
  }
 ],
 "metadata": {
  "kernelspec": {
   "display_name": "ai",
   "language": "python",
   "name": "ai"
  },
  "language_info": {
   "codemirror_mode": {
    "name": "ipython",
    "version": 3
   },
   "file_extension": ".py",
   "mimetype": "text/x-python",
   "name": "python",
   "nbconvert_exporter": "python",
   "pygments_lexer": "ipython3",
   "version": "3.10.16"
  }
 },
 "nbformat": 4,
 "nbformat_minor": 5
}
