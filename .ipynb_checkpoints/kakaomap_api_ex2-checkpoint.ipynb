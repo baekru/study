{
 "cells": [
  {
   "cell_type": "code",
   "execution_count": null,
   "id": "3c1d5ece-31ca-4023-974e-80e9a0ea48ef",
   "metadata": {},
   "outputs": [],
   "source": [
    "lat = float(input('위도를 입력해주세요?')) #37.57184\n",
    "ing = flat(input('경도를 입력하세?'))#126.976"
   ]
  },
  {
   "cell_type": "code",
   "execution_count": 5,
   "id": "806627e8-77a1-49a9-bcde-31e5d2c0b7f2",
   "metadata": {},
   "outputs": [
    {
     "ename": "NameError",
     "evalue": "name 'lat' is not defined",
     "output_type": "error",
     "traceback": [
      "\u001b[1;31m---------------------------------------------------------------------------\u001b[0m",
      "\u001b[1;31mNameError\u001b[0m                                 Traceback (most recent call last)",
      "Cell \u001b[1;32mIn[5], line 12\u001b[0m\n\u001b[0;32m      9\u001b[0m     \u001b[38;5;28mprint\u001b[39m(\u001b[38;5;124m\"\u001b[39m\u001b[38;5;124m리존타입은\u001b[39m\u001b[38;5;124m\"\u001b[39m, result[\u001b[38;5;124m\"\u001b[39m\u001b[38;5;124mdocuments\u001b[39m\u001b[38;5;124m\"\u001b[39m][\u001b[38;5;241m0\u001b[39m][\u001b[38;5;124m\"\u001b[39m\u001b[38;5;124mregion_type\u001b[39m\u001b[38;5;124m\"\u001b[39m])\n\u001b[0;32m     10\u001b[0m     \u001b[38;5;28mprint\u001b[39m(\u001b[38;5;124m\"\u001b[39m\u001b[38;5;124m주소는\u001b[39m\u001b[38;5;124m\"\u001b[39m, result[\u001b[38;5;124m\"\u001b[39m\u001b[38;5;124mdocuments\u001b[39m\u001b[38;5;124m\"\u001b[39m][\u001b[38;5;241m0\u001b[39m][\u001b[38;5;124m\"\u001b[39m\u001b[38;5;124maddress_name\u001b[39m\u001b[38;5;124m\"\u001b[39m])\n\u001b[1;32m---> 12\u001b[0m lat_lng_addr(\u001b[43mlat\u001b[49m, lng)\n",
      "\u001b[1;31mNameError\u001b[0m: name 'lat' is not defined"
     ]
    }
   ],
   "source": [
    "import requests\n",
    "my_key = 'ea7e9517018f6c188fa72070df9ef591'\n",
    "\n",
    "def lat_lng_addr(lat, lng):\n",
    "    url = f\"https://dapi.kakao.com/v2/local/geo/coord2regioncode.json?x={lng}&y={lat}\"\n",
    "    headers = {\"Authorization\": f\"KakaoAK {my_key}\"}\n",
    "    response = requests.get(url, headers=headers)\n",
    "    result = response.json()\n",
    "    print(\"리존타입은\", result[\"documents\"][0][\"region_type\"])\n",
    "    print(\"주소는\", result[\"documents\"][0][\"address_name\"])\n"
   ]
  },
  {
   "cell_type": "code",
   "execution_count": null,
   "id": "140a9792-dab5-4b1d-9a18-088e714d5d25",
   "metadata": {},
   "outputs": [],
   "source": []
  },
  {
   "cell_type": "code",
   "execution_count": null,
   "id": "75aeaef7-e85c-4619-92aa-ad5cd63a05fd",
   "metadata": {},
   "outputs": [],
   "source": []
  }
 ],
 "metadata": {
  "kernelspec": {
   "display_name": "ai",
   "language": "python",
   "name": "ai"
  },
  "language_info": {
   "codemirror_mode": {
    "name": "ipython",
    "version": 3
   },
   "file_extension": ".py",
   "mimetype": "text/x-python",
   "name": "python",
   "nbconvert_exporter": "python",
   "pygments_lexer": "ipython3",
   "version": "3.10.16"
  }
 },
 "nbformat": 4,
 "nbformat_minor": 5
}
