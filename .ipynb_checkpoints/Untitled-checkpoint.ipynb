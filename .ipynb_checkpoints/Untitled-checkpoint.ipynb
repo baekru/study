{
 "cells": [
  {
   "cell_type": "code",
   "execution_count": null,
   "id": "a1cad8ef-b2b4-4fc8-9082-0194830cb4a3",
   "metadata": {},
   "outputs": [],
   "source": [
    "# 판다스 용도\n",
    "## 데이터 수집 정리하는 역할\n",
    "# 자료 형식\n",
    "## 시리즈, 데이터프레임\n",
    "# 판다스의 목적\n",
    "## 서로 다른 여러가지 유형의 데이터를 공통의 포멧으로 정리하는 것"
   ]
  },
  {
   "cell_type": "markdown",
   "id": "0abb4996-faef-4e2a-a471-521ea9927509",
   "metadata": {},
   "source": [
    "1. 시리즈\n",
    "    1.1 1 1차원 배열\n",
    "    1.2 리스트,튜플,딕셔너리를 시리즈로 만들수 있다. pd.Series()\n",
    "    1.3 리스트, 튜플은 index를 지정하지 않으면 0,1,2\n",
    "    1.4 딕셔터리에서 key는 index, value는 data가 된다."
   ]
  },
  {
   "cell_type": "code",
   "execution_count": 117,
   "id": "1f3ceb0f-0fad-4e1d-9547-1cffdfafce55",
   "metadata": {},
   "outputs": [
    {
     "name": "stdout",
     "output_type": "stream",
     "text": [
      "<class 'pandas.core.series.Series'>\n",
      "a    1\n",
      "b    2\n",
      "c    3\n",
      "dtype: int64\n"
     ]
    }
   ],
   "source": [
    "#라이브러리 불러오기\n",
    "import pandas as pd\n",
    "#k:v 구조를 갖는 딕셔너리를 만들고, 변수 dict_data에 저장\n",
    "dict_data = { 'a': 1, 'b':2, 'c':3}\n",
    "#판다스 Series() 함수로 딕셔너리(dict_data)를 시리즈로 변환. 변수 sr에 저장\n",
    "sr = pd.Series(dict_data)\n",
    "print(type(sr))\n",
    "print(sr)"
   ]
  },
  {
   "cell_type": "code",
   "execution_count": 100,
   "id": "2e78fc17-a35b-4b10-ad30-f62bd3f61e60",
   "metadata": {},
   "outputs": [
    {
     "name": "stdout",
     "output_type": "stream",
     "text": [
      "[10, 20, 30, 40, 50, 60, 70, 80, 90, 100]\n"
     ]
    },
    {
     "data": {
      "text/plain": [
       "[10, 20, 30, 40, 50, 60, 70, 80, 90, 100]"
      ]
     },
     "execution_count": 100,
     "metadata": {},
     "output_type": "execute_result"
    }
   ],
   "source": [
    "list_data = list(range(10,101,10))\n",
    "print (list_data)\n",
    "[10,20,30,40,50,60,70,80,90,100]"
   ]
  },
  {
   "cell_type": "code",
   "execution_count": 102,
   "id": "4f1c7558-52e4-431c-a360-58d20653743e",
   "metadata": {},
   "outputs": [
    {
     "name": "stdout",
     "output_type": "stream",
     "text": [
      "a    100\n",
      "b    200\n",
      "c    300\n",
      "dtype: int64\n"
     ]
    }
   ],
   "source": [
    "#리스트 자료를 시리즈(sr) 로 만들기\n",
    "list_data = [100, 200, 300]\n",
    "list_sr = pd.Series(list_data, index=['a', 'b', 'c'])\n",
    "print(list_sr)"
   ]
  },
  {
   "cell_type": "code",
   "execution_count": 104,
   "id": "b8e8c936-e9a6-40d4-b5a8-6f271c6700ec",
   "metadata": {},
   "outputs": [
    {
     "name": "stdout",
     "output_type": "stream",
     "text": [
      "a    100\n",
      "b    400\n",
      "dtype: int64\n"
     ]
    }
   ],
   "source": [
    "#튜플 자료를 시리즈로 만들기\n",
    "tuple_data = (100,400)\n",
    "tuple_sr = pd.Series(tuple_data,index=['a','b'])\n",
    "print(tuple_sr)"
   ]
  },
  {
   "cell_type": "code",
   "execution_count": 106,
   "id": "2075cbfd-628a-491b-802f-10c326846efc",
   "metadata": {},
   "outputs": [
    {
     "name": "stdout",
     "output_type": "stream",
     "text": [
      "(5,)\n",
      "1\n"
     ]
    }
   ],
   "source": [
    "list_data = ['2019-01-02', '3.14', 'ABC', 100, True]\n",
    "sr = pd.Series(list_data)\n",
    "sr_index = sr.index\n",
    "sr_values = sr.values\n",
    "print(sr.shape) ##중요 컴퓨터비젼에서 데이터 내용 파악할때 많이 쓰는 명령어\n",
    "print(sr.ndim)"
   ]
  },
  {
   "cell_type": "code",
   "execution_count": 108,
   "id": "c59838c8-448f-4581-87ef-e1b50d01efb6",
   "metadata": {},
   "outputs": [
    {
     "name": "stdout",
     "output_type": "stream",
     "text": [
      "딸기     5000\n",
      "바나나    3000\n",
      "dtype: int64\n",
      "상품명: Index(['딸기', '바나나'], dtype='object')\n",
      "상품의 가격: [5000 3000]\n"
     ]
    }
   ],
   "source": [
    "#리스트 -> 시리즈\n",
    "#시리즈 -> 리스트\n",
    "# 리스트 -> 시리즈\n",
    "# 시리즈 -> 리스트\n",
    "\n",
    "dic_data = {\"딸기\": 5000, \"바나나\": 3000}  # 중괄호로 수정\n",
    "sr_fruits = pd.Series(dic_data)          # 변수명 오타 수정\n",
    "print(sr_fruits)\n",
    "\n",
    "fruits = sr_fruits.index\n",
    "price = sr_fruits.values\n",
    "\n",
    "print(\"상품명:\", fruits)\n",
    "print(\"상품의 가격:\", price)\n"
   ]
  },
  {
   "cell_type": "code",
   "execution_count": 110,
   "id": "0492bd9e-bb54-468c-8590-dd6c931298f6",
   "metadata": {},
   "outputs": [
    {
     "name": "stdout",
     "output_type": "stream",
     "text": [
      "a    10\n",
      "b    20\n",
      "c    30\n",
      "d    40\n",
      "e    50\n",
      "f    60\n",
      "dtype: int64\n"
     ]
    }
   ],
   "source": [
    "#그림 1-5 코드 해보기\n",
    "num_list = list(range(10,62,10)) #[10,20,30,40,50,60,]\n",
    "i_list = ['a','b','c','d','e','f']\n",
    "sr010 = pd.Series(num_list, index = i_list)\n",
    "print(sr010)"
   ]
  },
  {
   "cell_type": "code",
   "execution_count": 112,
   "id": "3855fad7-2e52-41d2-9ec9-069bef47f874",
   "metadata": {},
   "outputs": [
    {
     "name": "stdout",
     "output_type": "stream",
     "text": [
      "영인\n",
      "성별               여\n",
      "생년월일    2010-05-01\n",
      "dtype: object\n",
      "이름              영인\n",
      "생년월일    2010-05-01\n",
      "dtype: object\n",
      "이름              영인\n",
      "생년월일    2010-05-01\n",
      "성별               여\n",
      "dtype: object\n"
     ]
    }
   ],
   "source": [
    "tup_data = ('영인', '2010-05-01', '여', True)\n",
    "sr = pd.Series(tup_data, index=['이름', '생년월일', '성별', '학생여부'])\n",
    "\n",
    "print(sr['이름'])                  # 단일 인덱스 접근\n",
    "print(sr[['성별', '생년월일']])    # 여러 인덱스 접근 (리스트로)\n",
    "\n",
    "#만약 학생이면 이름과 생년월일을 출력하고\n",
    "#아니면 이름만 출력하세요\n",
    "\n",
    "# 조건에 따라 출력\n",
    "if sr['학생여부']:  # 학생이면 True\n",
    "    print(sr[['이름', '생년월일']])\n",
    "else:\n",
    "    print(sr['이름'])\n",
    "\n",
    "#이름 인덱스 부터 성별 인덱스까지 연속적인 인덱스 자료 선택하기\n",
    "print(sr['이름':'성별'])\n"
   ]
  },
  {
   "cell_type": "code",
   "execution_count": 126,
   "id": "16799892-fd0c-440e-89f4-2f7dffbd2fef",
   "metadata": {},
   "outputs": [
    {
     "name": "stdout",
     "output_type": "stream",
     "text": [
      "100    5\n",
      "200    5\n",
      "300    5\n",
      "dtype: int64\n",
      "0     0\n",
      "1     0\n",
      "2     0\n",
      "3     0\n",
      "4     0\n",
      "     ..\n",
      "95    0\n",
      "96    0\n",
      "97    0\n",
      "98    0\n",
      "99    0\n",
      "Length: 100, dtype: int64\n"
     ]
    }
   ],
   "source": [
    "pd.empty = pd.Series() #빈시리즈 만들기\n",
    "#print (sr_emptu)\n",
    "sr_5 = pd.Series(5)\n",
    "sr_5 = pd.Series(5,index=[100,200,300])\n",
    "print(sr_5)\n",
    "#데이터 0 인덱스 0~100 시리즈 만기기\n",
    "\n",
    "index_list_0100 = list(range (0,101,1))\n",
    "sr_0 = pd.Series(0, index = index_list_0100)\n",
    "print(sr)"
   ]
  },
  {
   "cell_type": "code",
   "execution_count": 158,
   "id": "ed027a1b-035f-4f8c-acfe-9079a1093a36",
   "metadata": {},
   "outputs": [
    {
     "name": "stdout",
     "output_type": "stream",
     "text": [
      "a    100\n",
      "b    200\n",
      "c    300\n",
      "d    400\n",
      "e    500\n",
      "dtype: int64\n"
     ]
    }
   ],
   "source": [
    "#문제1) 시리즈 생성\n",
    "#리스트 [100, 200, 300, 400, 500]를 사용해서 인덱스가 'a', 'b', 'c', 'd', 'e'인 시리즈를 만들어 출력하시오.\n",
    "dict_data = { 'a': 100, 'b':200, 'c':300, 'd':400, 'e':500}\n",
    "#판다스 Series() 함수로 딕셔너리(dict_data)를 시리즈로 변환. 변수 sr에 저장\n",
    "\n",
    "# 문제1\n",
    "q_list = [100,200,300,400,500]\n",
    "q_index = ['a', 'b', 'c', 'd', 'e']\n",
    "s = pd.Series( q_list, index = q_index ) \n",
    "print( s )"
   ]
  },
  {
   "cell_type": "code",
   "execution_count": 136,
   "id": "db5fa1af-5353-469b-bd01-ed3244cc90dd",
   "metadata": {},
   "outputs": [
    {
     "name": "stdout",
     "output_type": "stream",
     "text": [
      "b    20\n",
      "d    40\n",
      "dtype: int64\n"
     ]
    }
   ],
   "source": [
    "#문제2) 값 선택 및 슬라이싱\n",
    "#아래 시리즈에서 인덱스 'b'와 'd'에 해당하는 값을 출력하시오.\n",
    "s = pd.Series([10, 20, 30, 40, 50], index=['a', 'b', 'c', 'd', 'e'])\n",
    "print(s[['b','d']])"
   ]
  },
  {
   "cell_type": "code",
   "execution_count": 138,
   "id": "9040a4aa-7939-4a71-a608-280345eba2d3",
   "metadata": {},
   "outputs": [
    {
     "name": "stdout",
     "output_type": "stream",
     "text": [
      "C    35\n",
      "D    45\n",
      "E    55\n",
      "dtype: int64\n"
     ]
    }
   ],
   "source": [
    "#문제3) 조건 필터링\n",
    "#다음 시리즈에서 값이 30보다 큰 데이터만 출력하시오.\n",
    "\n",
    "import pandas as pd\n",
    "s = pd.Series([15, 25, 35, 45, 55], index=['A', 'B', 'C', 'D', 'E'])\n",
    "print(s[s>30])"
   ]
  },
  {
   "cell_type": "code",
   "execution_count": 160,
   "id": "234aceda-6ec1-4887-9bf6-9aa38b9364ef",
   "metadata": {},
   "outputs": [
    {
     "name": "stdout",
     "output_type": "stream",
     "text": [
      "0    15\n",
      "1    20\n",
      "2    25\n",
      "3    30\n",
      "4    35\n",
      "dtype: int64\n"
     ]
    }
   ],
   "source": [
    "#문제4) 연산 적용\n",
    "#아래 시리즈에 10을 더한 새로운 시리즈를 만들어 출력하시오.\n",
    "\n",
    "import pandas as pd\n",
    "s = pd.Series([5, 10, 15, 20, 25])\n",
    "\n",
    "# 10을 더한 새로운 시리즈 생성\n",
    "s_new = s + 10\n",
    "\n",
    "# 결과 출력\n",
    "print(s_new)"
   ]
  },
  {
   "cell_type": "code",
   "execution_count": 162,
   "id": "9617e7f4-cfba-4384-b81d-c9a0ce7ac43f",
   "metadata": {},
   "outputs": [
    {
     "name": "stdout",
     "output_type": "stream",
     "text": [
      "95\n"
     ]
    }
   ],
   "source": [
    "#문제5) 딕셔너리로 시리즈 만들기 & 값 접근\n",
    "#다음 딕셔너리를 시리즈로 만들고 'Python' 과목 점수를 출력하시오.\n",
    "\n",
    "scores = {\n",
    "    'Python': 95,\n",
    "    'Math': 88,\n",
    "    'English': 76,\n",
    "    'History': 82\n",
    "}\n",
    "\n",
    "s = pd.Series(scores)\n",
    "\n",
    "# 'Python' 과목 점수 출력\n",
    "print(s['Python'])"
   ]
  },
  {
   "cell_type": "code",
   "execution_count": 164,
   "id": "2f6c0d91-b30b-454e-a7c5-4842b71c5844",
   "metadata": {},
   "outputs": [
    {
     "name": "stdout",
     "output_type": "stream",
     "text": [
      "A    12\n",
      "B    24\n",
      "C    36\n",
      "D    48\n",
      "E    60\n",
      "dtype: int64\n"
     ]
    }
   ],
   "source": [
    "#문제6) 시리즈 인덱스 변경\n",
    "#아래 시리즈의 인덱스를 'A', 'B', 'C', 'D', 'E'로 바꿔서 출력하시오.\n",
    "\n",
    "import pandas as pd\n",
    "s = pd.Series([12, 24, 36, 48, 60])\n",
    "s.index = ['A', 'B', 'C', 'D', 'E']\n",
    "print(s)"
   ]
  },
  {
   "cell_type": "code",
   "execution_count": 202,
   "id": "cc89ce18-6bdc-4495-976b-fd60564b9ecb",
   "metadata": {},
   "outputs": [
    {
     "name": "stdout",
     "output_type": "stream",
     "text": [
      "85.6\n"
     ]
    }
   ],
   "source": [
    "#문제7) 시리즈 값의 평균 구하기\n",
    "#다음 시리즈의 평균값을 계산하시오.\n",
    "\n",
    "import pandas as pd\n",
    "\n",
    "s = pd.Series([80, 90, 75, 95, 88])\n",
    "print(s.mean())"
   ]
  },
  {
   "cell_type": "code",
   "execution_count": 186,
   "id": "79c12077-ee75-40d3-92aa-38f537e773bb",
   "metadata": {},
   "outputs": [
    {
     "name": "stdout",
     "output_type": "stream",
     "text": [
      "1    16\n",
      "3    33\n",
      "0    42\n",
      "2    58\n",
      "4    95\n",
      "dtype: int64\n"
     ]
    }
   ],
   "source": [
    "#문제8) 시리즈 정렬\n",
    "#아래 시리즈를 값 기준으로 오름차순 정렬하여 출력하시오.\n",
    "\n",
    "import pandas as pd\n",
    "s = pd.Series([42, 16, 58, 33, 95])\n",
    "print(s.sort_values())"
   ]
  },
  {
   "cell_type": "code",
   "execution_count": 196,
   "id": "6248ac62-5592-4556-8f01-836bba99bcb7",
   "metadata": {},
   "outputs": [
    {
     "name": "stdout",
     "output_type": "stream",
     "text": [
      "30.0\n",
      "0    10.0\n",
      "1    30.0\n",
      "2    30.0\n",
      "3    30.0\n",
      "4    50.0\n",
      "dtype: float64\n"
     ]
    }
   ],
   "source": [
    "#문제9) 시리즈 NaN 처리\n",
    "#다음 시리즈에서 NaN을 0으로 채운 새로운 시리즈를 만들어 출력하시오.\n",
    "\n",
    "import pandas as pd\n",
    "import numpy as np\n",
    "\n",
    "s = pd.Series([10, np.nan, 30, np.nan, 50])  # np.nan은 숫자가 아니다\n",
    "s_mean = s.mean()  # 평균값을 변수에 저장\n",
    "print(s_mean)\n",
    "\n",
    "s_0 = s.fillna(s_mean)\n",
    "print(s_0)"
   ]
  },
  {
   "cell_type": "code",
   "execution_count": 204,
   "id": "b3698f25-a7ac-42cc-bfcf-3c04e1e30d73",
   "metadata": {},
   "outputs": [
    {
     "ename": "SyntaxError",
     "evalue": "unmatched ')' (887565870.py, line 8)",
     "output_type": "error",
     "traceback": [
      "\u001b[1;36m  Cell \u001b[1;32mIn[204], line 8\u001b[1;36m\u001b[0m\n\u001b[1;33m    index(['a','c','e']) dtype='object')\u001b[0m\n\u001b[1;37m                                       ^\u001b[0m\n\u001b[1;31mSyntaxError\u001b[0m\u001b[1;31m:\u001b[0m unmatched ')'\n"
     ]
    }
   ],
   "source": [
    "#문제10) 시리즈 불린 인덱싱\n",
    "#다음 시리즈에서 True인 인덱스만 출력하시오.\n",
    "\n",
    "import pandas as pd\n",
    "\n",
    "s = pd.Series([True, False, True, False, True], index=['A', 'B', 'C', 'D', 'E'])\n",
    "print(s[s].index)\n",
    "index(['a','c','e']) dtype='object')"
   ]
  },
  {
   "cell_type": "code",
   "execution_count": 206,
   "id": "34fbd6ed-2b74-4e86-b1d6-c84b89c29a9c",
   "metadata": {},
   "outputs": [
    {
     "data": {
      "text/plain": [
       "1     30\n",
       "3    100\n",
       "dtype: int64"
      ]
     },
     "execution_count": 206,
     "metadata": {},
     "output_type": "execute_result"
    }
   ],
   "source": [
    "s_num = [10,30,20,100]\n",
    "#시리즈로 만들기\n",
    "sr = pd.Series(s_num)\n",
    "sr[sr>=30]"
   ]
  },
  {
   "cell_type": "code",
   "execution_count": 212,
   "id": "2e178e7b-a072-414b-8b81-0f17908c20d3",
   "metadata": {},
   "outputs": [
    {
     "name": "stdout",
     "output_type": "stream",
     "text": [
      "         food  rating\n",
      "0         KFC     4.5\n",
      "1    McDonald     3.9\n",
      "2  SchoolFood     4.2\n"
     ]
    }
   ],
   "source": [
    "#문제2\n",
    "# food와 rating 컬럼만 선택하여 출력\n",
    "data = {'food': ['KFC', 'McDonald', 'SchoolFood'], 'pirce': [1000, 2000, 2500], 'rating': [4.5, 3.9, 4.2]}\n",
    "df = pd.DataFrame(data)\n",
    "print(df[['food', 'rating']])"
   ]
  },
  {
   "cell_type": "code",
   "execution_count": 214,
   "id": "2827ba44-82fd-44ac-9fd7-4e95cf411d2d",
   "metadata": {},
   "outputs": [
    {
     "name": "stdout",
     "output_type": "stream",
     "text": [
      "        place  pirce  rating\n",
      "0         KFC   1000     4.5\n",
      "1    McDonald   2000     3.9\n",
      "2  SchoolFood   2500     4.2\n"
     ]
    }
   ],
   "source": [
    "#문제3\n",
    "#food 컬럼명을 place로 컬럼명을 변경해 주세요\n",
    "data = {'place': ['KFC', 'McDonald', 'SchoolFood'], 'pirce': [1000, 2000, 2500], 'rating': [4.5, 3.9, 4.2]}\n",
    "df = pd.DataFrame(data)\n",
    "print(df)"
   ]
  },
  {
   "cell_type": "code",
   "execution_count": null,
   "id": "c6f7d365-271e-4242-a4c2-8aa3399bef8a",
   "metadata": {},
   "outputs": [],
   "source": [
    "\n"
   ]
  }
 ],
 "metadata": {
  "kernelspec": {
   "display_name": "Python [conda env:base] *",
   "language": "python",
   "name": "conda-base-py"
  },
  "language_info": {
   "codemirror_mode": {
    "name": "ipython",
    "version": 3
   },
   "file_extension": ".py",
   "mimetype": "text/x-python",
   "name": "python",
   "nbconvert_exporter": "python",
   "pygments_lexer": "ipython3",
   "version": "3.12.7"
  }
 },
 "nbformat": 4,
 "nbformat_minor": 5
}
