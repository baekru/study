{
 "cells": [
  {
   "cell_type": "code",
   "execution_count": 31,
   "id": "38a872d5-2ca7-4209-9877-19b204499bb2",
   "metadata": {},
   "outputs": [
    {
     "name": "stdout",
     "output_type": "stream",
     "text": [
      "현재 작업 폴더: C:\\Users\\607\\ai\n",
      "대상 폴더 경로: C:\\Users\\607\\ai\\data\n",
      "\n",
      "✅ df_sample.csv → data\\df_sample.csv\n",
      "✅ df_sample_no_index.csv → data\\df_sample_no_index.csv\n",
      "✅ df_sample.xlsx → data\\df_sample.xlsx\n",
      "✅ df_sample.json → data\\df_sample.json\n"
     ]
    }
   ],
   "source": [
    "import os\n",
    "import shutil\n",
    "\n",
    "files_to_move = [\n",
    "    \"df_sample.csv\",\n",
    "    \"df_sample_no_index.csv\",\n",
    "    \"df_sample.xlsx\",\n",
    "    \"df_sample.json\"\n",
    "]\n",
    "\n",
    "target_folder = \"data\"\n",
    "\n",
    "# 폴더가 없다면 생성\n",
    "os.makedirs(target_folder, exist_ok=True)\n",
    "\n",
    "# 현재 폴더 정보 출력\n",
    "print(f\"현재 작업 폴더: {os.getcwd()}\")\n",
    "print(f\"대상 폴더 경로: {os.path.abspath(target_folder)}\\n\")\n",
    "\n",
    "# 이동 실행\n",
    "for file in files_to_move:\n",
    "    src = file.strip()\n",
    "    dst = os.path.join(target_folder, src)\n",
    "\n",
    "    if os.path.exists(src):\n",
    "        try:\n",
    "            shutil.move(src, dst)\n",
    "            print(f\"✅ {src} → {dst}\")\n",
    "        except Exception as e:\n",
    "            print(f\"⚠️ {src} 이동 중 오류: {e}\")\n",
    "    else:\n",
    "        print(f\"❌ {src} 없음 — 건너뜀\")\n"
   ]
  },
  {
   "cell_type": "code",
   "execution_count": 63,
   "id": "fd75781a-8e3a-4075-ad20-33b8d416c805",
   "metadata": {},
   "outputs": [
    {
     "name": "stdout",
     "output_type": "stream",
     "text": [
      "현재 작업 디렉터리: C:\\Users\\607\\ai\n",
      "data 폴더 내용: ['df_excelwriter.xlsx', 'df_sample.csv', 'df_sample.json', 'df_sample.xlsx', 'df_sample_columns.json', 'df_sample_index.json', 'df_sample_no_index.csv', 'df_sample_no_index.xlsx', 'df_sample_records.json', 'df_sample_split.json', 'df_sample_values.json', 'read_csv_sample.csv', 'read_json_sample.json', 'sample.html', 'test.csv', 'test.json', '남북한발전전력량.xlsx']\n",
      "읽을 파일: ./data/df_sample.csv | 존재 여부: True\n",
      "헤더 및 컬럼명: ['name', 'algol', 'basic', 'c++']\n",
      "    name algol basic c++\n",
      "0  Jerry     A     C  B+\n",
      "1   Riah    A+     B   C\n",
      "2   Paul     B    B+  C+\n",
      "\n",
      "인덱스 설정 후:\n",
      "      algol basic c++\n",
      "name                 \n",
      "Jerry     A     C  B+\n",
      "Riah     A+     B   C\n",
      "Paul      B    B+  C+\n"
     ]
    }
   ],
   "source": [
    "import os\n",
    "import pandas as pd\n",
    "\n",
    "# 1) 작업 디렉터리·data 폴더 확인\n",
    "print(\"현재 작업 디렉터리:\", os.getcwd())\n",
    "print(\"data 폴더 내용:\", os.listdir(\"data\"))\n",
    "\n",
    "# 2) 파일 경로 지정\n",
    "s_name = \"./data/df_sample.csv\"  \n",
    "print(\"읽을 파일:\", s_name, \"| 존재 여부:\", os.path.isfile(s_name))\n",
    "\n",
    "# 3) 우선 헤더와 컬럼명 확인\n",
    "tmp = pd.read_csv(s_name)\n",
    "print(\"헤더 및 컬럼명:\", tmp.columns.tolist())\n",
    "print(tmp.head())\n",
    "\n",
    "# 4) 적절한 인덱스 컬럼 지정\n",
    "#    • 컬럼명이 'c0'로 보이면 index_col=\"c0\"\n",
    "#    • 아니면 첫 번째 컬럼을 인덱스로 쓰려면 index_col=0\n",
    "if \"c0\" in tmp.columns:\n",
    "    sample = pd.read_csv(s_name, header=0, index_col=\"c0\")\n",
    "else:\n",
    "    sample = pd.read_csv(s_name, header=0, index_col=0)\n",
    "\n",
    "# 5) 결과 출력\n",
    "print(\"\\n인덱스 설정 후:\")\n",
    "print(sample.head())\n",
    "\n",
    "\n"
   ]
  },
  {
   "cell_type": "code",
   "execution_count": 59,
   "id": "11087f74-bb3f-486e-948b-ecfa951544fc",
   "metadata": {},
   "outputs": [
    {
     "name": "stdout",
     "output_type": "stream",
     "text": [
      "현재 작업 디렉터리: C:\\Users\\607\\ai\n",
      "파일 존재 여부: True\n",
      "  전력량 (억㎾h) 발전 전력별  1990  1991  1992  1993  1994  1995  1996  1997  ...  2007  \\\n",
      "0        남한     합계  1077  1186  1310  1444  1650  1847  2055  2244  ...  4031   \n",
      "1       NaN     수력    64    51    49    60    41    55    52    54  ...    50   \n",
      "2       NaN     화력   484   573   696   803  1022  1122  1264  1420  ...  2551   \n",
      "3       NaN    원자력   529   563   565   581   587   670   739   771  ...  1429   \n",
      "4       NaN    신재생     -     -     -     -     -     -     -     -  ...     -   \n",
      "\n",
      "   2008  2009  2010  2011  2012  2013  2014  2015  2016  \n",
      "0  4224  4336  4747  4969  5096  5171  5220  5281  5404  \n",
      "1    56    56    65    78    77    84    78    58    66  \n",
      "2  2658  2802  3196  3343  3430  3581  3427  3402  3523  \n",
      "3  1510  1478  1486  1547  1503  1388  1564  1648  1620  \n",
      "4     -     -     -     -    86   118   151   173   195  \n",
      "\n",
      "[5 rows x 29 columns]\n"
     ]
    }
   ],
   "source": [
    "import pandas as pd\n",
    "import os\n",
    "\n",
    "# 1) 현재 작업 디렉터리 확인\n",
    "print(\"현재 작업 디렉터리:\", os.getcwd())\n",
    "\n",
    "# 2) 파일이 실제 존재하는지 점검\n",
    "file_path = \"./남북한발전전력량.xlsx\"\n",
    "print(\"파일 존재 여부:\", os.path.isfile(file_path))\n",
    "\n",
    "# 3) 엑셀 읽기 (engine 명시)\n",
    "ex1 = pd.read_excel(file_path, engine=\"openpyxl\")\n",
    "\n",
    "# 4) 상위 5개 행 확인\n",
    "print(ex1.head())\n"
   ]
  },
  {
   "cell_type": "code",
   "execution_count": null,
   "id": "d3eff754-5e36-440a-9224-8836163bd329",
   "metadata": {},
   "outputs": [],
   "source": []
  }
 ],
 "metadata": {
  "kernelspec": {
   "display_name": "ai",
   "language": "python",
   "name": "ai"
  },
  "language_info": {
   "codemirror_mode": {
    "name": "ipython",
    "version": 3
   },
   "file_extension": ".py",
   "mimetype": "text/x-python",
   "name": "python",
   "nbconvert_exporter": "python",
   "pygments_lexer": "ipython3",
   "version": "3.10.16"
  }
 },
 "nbformat": 4,
 "nbformat_minor": 5
}
