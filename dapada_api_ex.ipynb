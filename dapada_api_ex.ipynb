{
 "cells": [
  {
   "cell_type": "code",
   "execution_count": 16,
   "id": "215d90e7-1b9c-408b-9d77-5865b639c39f",
   "metadata": {},
   "outputs": [
    {
     "name": "stdout",
     "output_type": "stream",
     "text": [
      "응답 상태 코드: 502\n",
      "응답 내용: <html>\n",
      "<head><title>502 Bad Gateway</title></head>\n",
      "<body>\n",
      "<center><h1>502 Bad Gateway</h1></center>\n",
      "</body>\n",
      "</html>\n",
      "\n",
      "JSON 디코딩 오류 발생\n",
      "None\n"
     ]
    }
   ],
   "source": [
    "import requests\n",
    "import pandas as pd\n",
    "\n",
    "my_key = 'dpd-d3fefec0-17474787f5f60b15f6078b5520beb040134df0f0a1cebd907bf86e2f7446ef7f'\n",
    "\n",
    "def get_finacials(stockCode, indicatorName, apiKey, consolidated=True, ttm=True):\n",
    "    if consolidated:\n",
    "        if ttm:\n",
    "            url = f\"https://api.dapada.io/company/getConsolidatedFinancialDataByTTM?indicatorName={indicatorName}&stockCode={stockCode}\"\n",
    "        else:\n",
    "            url = f\"https://api.dapada.io/company/getConsolidatedFinancialDataByCUR?indicatorName={indicatorName}&stockCode={stockCode}\"\n",
    "    else:\n",
    "        if ttm:\n",
    "            url = f\"https://api.dapada.io/company/getSeparatedFinancialDataByTTM?indicatorName={indicatorName}&stockCode={stockCode}\"\n",
    "        else:\n",
    "            url = f\"https://api.dapada.io/company/getSeparatedFinancialDataByCUR?indicatorName={indicatorName}&stockCode={stockCode}\"\n",
    "    \n",
    "    headers = {\"Authorization\": f\"{apiKey}\"}\n",
    "    response = requests.get(url, headers=headers)\n",
    "    print(\"응답 상태 코드:\", response.status_code)\n",
    "    print(\"응답 내용:\", response.text)\n",
    "    try:\n",
    "        result = response.json()\n",
    "        return pd.DataFrame(result)\n",
    "    except ValueError:\n",
    "        print(\"JSON 디코딩 오류 발생\")\n",
    "        return None\n",
    "\n",
    "df_ttm_consolidated = get_finacials(stockCode='005930', indicatorName='매출액', apiKey=my_key, consolidated=True, ttm=True)\n",
    "print(df_ttm_consolidated)\n"
   ]
  },
  {
   "cell_type": "code",
   "execution_count": null,
   "id": "3782662a-014a-4605-8c9a-c1903400b5e2",
   "metadata": {},
   "outputs": [],
   "source": []
  }
 ],
 "metadata": {
  "kernelspec": {
   "display_name": "ai",
   "language": "python",
   "name": "ai"
  },
  "language_info": {
   "codemirror_mode": {
    "name": "ipython",
    "version": 3
   },
   "file_extension": ".py",
   "mimetype": "text/x-python",
   "name": "python",
   "nbconvert_exporter": "python",
   "pygments_lexer": "ipython3",
   "version": "3.10.16"
  }
 },
 "nbformat": 4,
 "nbformat_minor": 5
}
