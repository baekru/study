import pandas as pd

exam_data = {
    '이름': ['서준', '우현', '인아'],
    '수학': [90, 80, 70],
    '영어': [98, 89, 95],
    '음악': [85, 95, 100],
    '체육': [100, 90, 90]
}

df = pd.DataFrame(exam_data)

# 인덱스를 숫자로 다시 설정
df.index = pd.Index([1, 2, 3])
print(df)



#행 인덱스 재배열 reindex()
#예제 1-17

import pandas as pd

# ✅ 딕셔너리는 중괄호 {}로
dict_data = {'c0': [1, 2, 3],'c1': [4, 5, 6],'c2': [7, 8, 9],'c3': [10, 11, 12],'c4': [13, 14, 15]}

# ✅ DataFrame 생성
df = pd.DataFrame(dict_data, index=['r0', 'r1', 'r2'])
print(df)



#문제 1
import pandas as pd

exam_data = {
    '이름': ['철수', '영희', '민수'],
    '국어': [90, 70, 85],
    '영어': [85, 95, 80],
    '수학': [80, 100, 90],
}

df = pd.DataFrame(exam_data)

print(df)



#문제 2
# 상품 주문 데이터 구성

order_data = {
    '주문번호': [1001, 1002, 1003],
    '상품명': ['키보드', '모니터', '마우스'],
    '수량': [2, 1, 3],
    '단가': [30000, 150000, 20000]
}

df = pd.DataFrame(order_data)

print(df)


#문제 3
#아래 데이터를 가지고 DataFrame을 만들고,
#행 인덱스를 '학생명' 으로, 열 이름을 한글로 변경 하세요.
#열 이름을 ["나이", "반"] 으로 변경하세요.

exam_data = {
    "Name": ["철수", "영희", "민수"],
    "Age": [16, 17, 16],
    "Class": ["A", "B", "A"]
}

df = pd.DataFrame(exam_data)

print(df)



#고객 주문 데이터에서 행과 열 삭제하기
#아래 데이터를 pandas DataFrame으로 만들고,
#특정 행과 열을 삭제해보세요.

import pandas as pd

data = {
    '주문번호': [1001, 1002, 1003],
    '고객명': ['김철수', '이영희', '박민수'],
    '상품명': ['키보드', '모니터', '마우스'],
    '수량': [2, 1, 3],
    '가격': [30000, 150000, 20000]
}

# DataFrame 생성
df = pd.DataFrame(data)
df.set_index('주문번호', inplace=True)
df = df.drop(index=1002)
df = df.drop(columns='가격')

print(df)



#문제1
student_data = { '이름':['철수','영희','민수'], '국어':[90,70,85], '영어':[85,95,80], '수학':[80,100,90] }
df = pd.DataFrame( student_data )
df


#문제2
product_order_data = { '주문번호':[1001, 1002, 1003], '상품명':['키보드', '모니터','마우스'], '수량':[2,1,3], '단가':[30000,150000,20000] }
df = pd.DataFrame( product_order_data )
df


# 문제3) 행인덱스/열이름 설정하기 
# 학생 출석부 데이터
# 요구사항 
# 아래 데이터를 가지고 DataFrame을 만들고,
# 행 인덱스를 '학생명' 으로, 열 이름을 한글로 변경 하세요.
# 열 이름을 ["나이", "반"] 으로 변경하세요.

data3 = {"Name": ["철수", "영희", "민수"],
        "Age": [16, 17, 16],
        "Class": ["A", "B", "A"]
       }

df3 = pd.DataFrame(data3)
# 변수 = 데이터프레임.rename(columns = { 기존 이름 : 변경후 이름 , ...})
df3 = df3.rename(columns = {'Name':'학생명', 'Age':'나이','Class':'반'})
# 변수 = 데이터프레임.rename(index = { 기존 이름 : 변경후 이름 , ...})
df3_1 = df3.set_index(['학생명'])

df3_1


# 문제4) 행/열삭제
# 고객 주문 데이터에서 행과 열 삭제하기
# 아래 데이터를 pandas DataFrame으로 만들고,
# 특정 행과 열을 삭제해보세요.

custom_data = { '주문번호':[1001, 1002, 1003], 
               '고객명':['김철수', '이영희', '박민수'], 
               '상품명': [ '키보드','모니터','마우스'], 
               '수량':[2,1,3], 
               '가격': [30000,150000, 20000] }

df = pd.DataFrame( custom_data )
drop_index = df [ df[ '주문번호' ] == 1002 ].index
drop_index
drop_df=df.drop( drop_index, axis=0)
drop_df
drop_가격 = df.drop( '가격', axis=1 )
drop_가격


#다른사람 출력예시
import pandas as pd
data = {'주문번호': ['1001', '1002', '1003'],
        '고객명': ['김철수', '이영희', '박민수'],
        '상품명': ['키보드', '모니터', '마우스'],
        '수량': [2, 1, 3],
        '가격': [3000, 150000, 20000]}
df = pd.DataFrame(data)
df2 = df.drop([1])
df3 = df2.drop('가격', axis=1)
df3


# 문제5) 행/열 선택
#  쇼핑몰 주문 데이터
# 다음 데이터를 DataFrame으로 만들고,
# 행과 열을 선택해보세요!

shop_data = {
    "주문번호": [1001, 1002, 1003],
    "고객명": ["김철수", "이영희", "박민수"],
    "상품명": ["키보드", "모니터", "마우스"],
    "수량": [2, 1, 3],
    "가격": [30000, 150000, 20000]
}
df = pd.DataFrame( shop_data )
df
df=df.set_index('주문번호')
df.loc[1002] # 주문번호 1002의 상품명만 선택해서 출력

# 수량과 가격 열만 선택해서 모든 행 출력
df[ ['수량','가격'] ]

# 1~2번째 행과 '고객명', '상품명' 열만 선택해서 출력
df.iloc[ [1,2], [1,2] ]



# 문제6)  원소값 수정하기 
# 학생 성적 데이터 수정하기
# 다음 데이터를 DataFrame으로 만들고,
# 특정 원소 값을 수정하세요!

data = {
    '주문번호': [1001, 1002, 1003],
    '고객명': ['김철수', '이영희', '박민수'],
    '상품명': ['키보드', '모니터', '마우스'],
    '수량': [2, 1, 3],
    '가격': [30000, 150000, 20000]
}

# DataFrame 생성
df = pd.DataFrame(data)

# 인덱스 설정
df = df.set_index('주문번호')

# 행 삭제 (1002)
df = df.drop(index=1002)

# 열 삭제 ('가격')
df = df.drop(columns='가격')

# 출력
print(df)


# 문제7
custom_order_data = {
    "주문번호": [1001, 1002, 1003],
    "고객명": ["김철수", "이영희", "박민수"],
    "상품명": ["키보드", "모니터", "마우스"],
    "수량": [2, 1, 3],
    "가격": [30000, 150000, 20000]
}

df = pd.DataFrame( custom_order_data )
# 주문번호를 인덱스로 설정
df = df.set_index( '주문번호' )
df
# 주문번호 1002에 해당하는 고객명과 상품명을 출력
df.loc[1002, ['고객명','상품명'] ]



